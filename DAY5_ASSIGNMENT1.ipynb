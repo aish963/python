{
  "nbformat": 4,
  "nbformat_minor": 0,
  "metadata": {
    "colab": {
      "name": "DAY5 ASSIGNMENT1.ipynb",
      "provenance": [],
      "authorship_tag": "ABX9TyM6frDO3HUXIIlv3PVVi3G3",
      "include_colab_link": true
    },
    "kernelspec": {
      "name": "python3",
      "display_name": "Python 3"
    }
  },
  "cells": [
    {
      "cell_type": "markdown",
      "metadata": {
        "id": "view-in-github",
        "colab_type": "text"
      },
      "source": [
        "<a href=\"https://colab.research.google.com/github/aish963/python/blob/master/DAY5_ASSIGNMENT1.ipynb\" target=\"_parent\"><img src=\"https://colab.research.google.com/assets/colab-badge.svg\" alt=\"Open In Colab\"/></a>"
      ]
    },
    {
      "cell_type": "code",
      "metadata": {
        "id": "j21wV8_-viU3",
        "colab_type": "code",
        "colab": {
          "base_uri": "https://localhost:8080/",
          "height": 34
        },
        "outputId": "f523612a-8177-4a3e-aa30-407501b8979b"
      },
      "source": [
        "list1=[0,1,2,10,4,1,0,56,2,0,1,3,0,56,0,4]\n",
        "list1.sort(reverse=1)\n",
        "print(list1)"
      ],
      "execution_count": 1,
      "outputs": [
        {
          "output_type": "stream",
          "text": [
            "[56, 56, 10, 4, 4, 3, 2, 2, 1, 1, 1, 0, 0, 0, 0, 0]\n"
          ],
          "name": "stdout"
        }
      ]
    },
    {
      "cell_type": "markdown",
      "metadata": {
        "id": "A4ySlAaPv28D",
        "colab_type": "text"
      },
      "source": [
        "**DAY5 ASSIGNMENT2**"
      ]
    },
    {
      "cell_type": "code",
      "metadata": {
        "id": "VImXE8D6vn1B",
        "colab_type": "code",
        "colab": {
          "base_uri": "https://localhost:8080/",
          "height": 51
        },
        "outputId": "bebfa2f7-b15f-4af8-a967-2202cdbc8d69"
      },
      "source": [
        "list2=[10,20,40,60,70,80]\n",
        "list2.sort(reverse=1)\n",
        "print(list2)\n",
        "list3 = [(10,4),(2,4),(6,7),(2,6)]\n",
        "\n",
        "def fun1(x):\n",
        "    return x[0]+x[1]\n",
        "list3.sort(key=fun1)\n",
        "print (list3)\n"
      ],
      "execution_count": 2,
      "outputs": [
        {
          "output_type": "stream",
          "text": [
            "[80, 70, 60, 40, 20, 10]\n",
            "[(2, 4), (2, 6), (6, 7), (10, 4)]\n"
          ],
          "name": "stdout"
        }
      ]
    },
    {
      "cell_type": "code",
      "metadata": {
        "id": "NDTmIzxPwAzh",
        "colab_type": "code",
        "colab": {}
      },
      "source": [
        ""
      ],
      "execution_count": null,
      "outputs": []
    }
  ]
}