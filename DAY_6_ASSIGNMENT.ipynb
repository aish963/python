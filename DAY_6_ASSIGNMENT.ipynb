{
  "nbformat": 4,
  "nbformat_minor": 0,
  "metadata": {
    "colab": {
      "name": "DAY 6 ASSIGNMENT.ipynb",
      "provenance": [],
      "authorship_tag": "ABX9TyM9nNqFqrwBnzTupiZuirf7",
      "include_colab_link": true
    },
    "kernelspec": {
      "name": "python3",
      "display_name": "Python 3"
    }
  },
  "cells": [
    {
      "cell_type": "markdown",
      "metadata": {
        "id": "view-in-github",
        "colab_type": "text"
      },
      "source": [
        "<a href=\"https://colab.research.google.com/github/aish963/python/blob/master/DAY_6_ASSIGNMENT.ipynb\" target=\"_parent\"><img src=\"https://colab.research.google.com/assets/colab-badge.svg\" alt=\"Open In Colab\"/></a>"
      ]
    },
    {
      "cell_type": "markdown",
      "metadata": {
        "id": "YDubmkWjReou",
        "colab_type": "text"
      },
      "source": [
        "# **DAY 6 ASSIGNMENT 1**"
      ]
    },
    {
      "cell_type": "code",
      "metadata": {
        "id": "8K4ASprPRYM-",
        "colab_type": "code",
        "colab": {
          "base_uri": "https://localhost:8080/",
          "height": 34
        },
        "outputId": "7eeada6c-b05a-4db7-af00-e6cf044edccc"
      },
      "source": [
        "list1=[1,2,3,4,5,6]\n",
        "list2=[\"a\",\"b\",\"c\",\"d\",\"e\",\"f\"],\n",
        "print(dict([(list1[each],list2[each]) \n",
        "for each in range(min(len(list1),len(list2)))]))"
      ],
      "execution_count": 1,
      "outputs": [
        {
          "output_type": "stream",
          "text": [
            "{1: ['a', 'b', 'c', 'd', 'e', 'f']}\n"
          ],
          "name": "stdout"
        }
      ]
    },
    {
      "cell_type": "code",
      "metadata": {
        "id": "GYu1x18OT2JZ",
        "colab_type": "code",
        "colab": {}
      },
      "source": [
        ""
      ],
      "execution_count": null,
      "outputs": []
    }
  ]
}