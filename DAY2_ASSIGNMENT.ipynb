{
  "nbformat": 4,
  "nbformat_minor": 0,
  "metadata": {
    "colab": {
      "name": "DAY2 ASSIGNMENT.ipynb",
      "provenance": [],
      "authorship_tag": "ABX9TyNXvbvvgsPqTenmsP4yOnh7",
      "include_colab_link": true
    },
    "kernelspec": {
      "name": "python3",
      "display_name": "Python 3"
    }
  },
  "cells": [
    {
      "cell_type": "markdown",
      "metadata": {
        "id": "view-in-github",
        "colab_type": "text"
      },
      "source": [
        "<a href=\"https://colab.research.google.com/github/aish963/python/blob/master/DAY2_ASSIGNMENT.ipynb\" target=\"_parent\"><img src=\"https://colab.research.google.com/assets/colab-badge.svg\" alt=\"Open In Colab\"/></a>"
      ]
    },
    {
      "cell_type": "code",
      "metadata": {
        "id": "h5BPUKsZdPrJ",
        "colab_type": "code",
        "colab": {
          "base_uri": "https://localhost:8080/",
          "height": 34
        },
        "outputId": "9918ce3e-5343-432b-db68-a0396358e5a9"
      },
      "source": [
        "print(\"hello\")"
      ],
      "execution_count": 1,
      "outputs": [
        {
          "output_type": "stream",
          "text": [
            "hello\n"
          ],
          "name": "stdout"
        }
      ]
    },
    {
      "cell_type": "markdown",
      "metadata": {
        "id": "gl0Z7PHBgtjV",
        "colab_type": "text"
      },
      "source": [
        "**BACK SLASH**"
      ]
    },
    {
      "cell_type": "code",
      "metadata": {
        "id": "JAIPUvUgefgN",
        "colab_type": "code",
        "colab": {
          "base_uri": "https://localhost:8080/",
          "height": 34
        },
        "outputId": "8fbaf4bc-9f97-4c50-c5a2-e7e1643f3daf"
      },
      "source": [
        "print(\"hellopython\")"
      ],
      "execution_count": 3,
      "outputs": [
        {
          "output_type": "stream",
          "text": [
            "hellopython\n"
          ],
          "name": "stdout"
        }
      ]
    },
    {
      "cell_type": "markdown",
      "metadata": {
        "id": "uCuq-8DhhARy",
        "colab_type": "text"
      },
      "source": [
        "**TIPLE** **QUOTES**"
      ]
    },
    {
      "cell_type": "code",
      "metadata": {
        "id": "3V0ej1PJezJ9",
        "colab_type": "code",
        "colab": {
          "base_uri": "https://localhost:8080/",
          "height": 34
        },
        "outputId": "07131c84-7a57-492d-e21d-9330b1463d41"
      },
      "source": [
        "print(\"\"\" hello everone \"\"\")"
      ],
      "execution_count": 4,
      "outputs": [
        {
          "output_type": "stream",
          "text": [
            " hello everone \n"
          ],
          "name": "stdout"
        }
      ]
    },
    {
      "cell_type": "code",
      "metadata": {
        "id": "7rfgm5hPfbua",
        "colab_type": "code",
        "colab": {
          "base_uri": "https://localhost:8080/",
          "height": 34
        },
        "outputId": "544cd5d0-7beb-45ee-c225-97d051b6c4f4"
      },
      "source": [
        "print(\"\"\" This program written by aishwarya\"\"\")"
      ],
      "execution_count": 5,
      "outputs": [
        {
          "output_type": "stream",
          "text": [
            " This program written by aishwarya\n"
          ],
          "name": "stdout"
        }
      ]
    },
    {
      "cell_type": "markdown",
      "metadata": {
        "id": "ts_bHWTuhLYT",
        "colab_type": "text"
      },
      "source": [
        "**STRING INSIDE THE QUOTES**"
      ]
    },
    {
      "cell_type": "code",
      "metadata": {
        "id": "frcGXT1agjKz",
        "colab_type": "code",
        "colab": {
          "base_uri": "https://localhost:8080/",
          "height": 34
        },
        "outputId": "3354f0de-3ec9-443a-cf96-c17b97870bf3"
      },
      "source": [
        "print('hello world')"
      ],
      "execution_count": 6,
      "outputs": [
        {
          "output_type": "stream",
          "text": [
            "hello world\n"
          ],
          "name": "stdout"
        }
      ]
    },
    {
      "cell_type": "code",
      "metadata": {
        "id": "ONjsvlawhVVq",
        "colab_type": "code",
        "colab": {
          "base_uri": "https://localhost:8080/",
          "height": 129
        },
        "outputId": "75cbb53e-d568-44b4-b8cf-3368d8edb404"
      },
      "source": [
        "print('python's world)"
      ],
      "execution_count": 7,
      "outputs": [
        {
          "output_type": "error",
          "ename": "SyntaxError",
          "evalue": "ignored",
          "traceback": [
            "\u001b[0;36m  File \u001b[0;32m\"<ipython-input-7-4df7d6b712a9>\"\u001b[0;36m, line \u001b[0;32m1\u001b[0m\n\u001b[0;31m    print('python's world)\u001b[0m\n\u001b[0m                  ^\u001b[0m\n\u001b[0;31mSyntaxError\u001b[0m\u001b[0;31m:\u001b[0m invalid syntax\n"
          ]
        }
      ]
    },
    {
      "cell_type": "code",
      "metadata": {
        "id": "Ztw__Dn_heQN",
        "colab_type": "code",
        "colab": {
          "base_uri": "https://localhost:8080/",
          "height": 34
        },
        "outputId": "66f9af32-65d9-4fae-92f6-89ae8dba8c08"
      },
      "source": [
        "print(\"python's world\")"
      ],
      "execution_count": 8,
      "outputs": [
        {
          "output_type": "stream",
          "text": [
            "python's world\n"
          ],
          "name": "stdout"
        }
      ]
    },
    {
      "cell_type": "markdown",
      "metadata": {
        "id": "chRkf0cQhlco",
        "colab_type": "text"
      },
      "source": [
        "**ESCAPE SEQUENCE OF STRINGS**"
      ]
    },
    {
      "cell_type": "code",
      "metadata": {
        "id": "T61KhNOihjVu",
        "colab_type": "code",
        "colab": {
          "base_uri": "https://localhost:8080/",
          "height": 34
        },
        "outputId": "c58b0517-61b0-4a0c-9d97-a5d7833d5d59"
      },
      "source": [
        "print(\"hello\\tpython\")"
      ],
      "execution_count": 9,
      "outputs": [
        {
          "output_type": "stream",
          "text": [
            "hello\tpython\n"
          ],
          "name": "stdout"
        }
      ]
    },
    {
      "cell_type": "code",
      "metadata": {
        "id": "IuhpBfewhxOc",
        "colab_type": "code",
        "colab": {
          "base_uri": "https://localhost:8080/",
          "height": 51
        },
        "outputId": "6a1224a5-dbc0-43f1-aa47-4712a0a0cf10"
      },
      "source": [
        "print(\"hello\\npython\")"
      ],
      "execution_count": 10,
      "outputs": [
        {
          "output_type": "stream",
          "text": [
            "hello\n",
            "python\n"
          ],
          "name": "stdout"
        }
      ]
    },
    {
      "cell_type": "markdown",
      "metadata": {
        "id": "BIHtdBPeh5U9",
        "colab_type": "text"
      },
      "source": [
        "**FORMATTED OUTPUT**"
      ]
    },
    {
      "cell_type": "code",
      "metadata": {
        "id": "EngNpyKej8mG",
        "colab_type": "code",
        "colab": {
          "base_uri": "https://localhost:8080/",
          "height": 34
        },
        "outputId": "00f5d57e-102a-45c2-aa80-7e6fa7408695"
      },
      "source": [
        "name=\"aishwarya\"\n",
        "marks=90.87\n",
        "age=24\n",
        "print(\"The name of person is\", name, \"marks is\",marks, \"age is\",age)"
      ],
      "execution_count": 15,
      "outputs": [
        {
          "output_type": "stream",
          "text": [
            "The name of person is aishwarya marks is 90.87 age is 24\n"
          ],
          "name": "stdout"
        }
      ]
    },
    {
      "cell_type": "markdown",
      "metadata": {
        "id": "OQ84OcBslVfQ",
        "colab_type": "text"
      },
      "source": [
        "**PYTHON ASSIGNMENT STATEMENT**"
      ]
    },
    {
      "cell_type": "code",
      "metadata": {
        "id": "eULnvk_Jk6a0",
        "colab_type": "code",
        "colab": {}
      },
      "source": [
        "x=y=z=10"
      ],
      "execution_count": 17,
      "outputs": []
    },
    {
      "cell_type": "code",
      "metadata": {
        "id": "belnmLYtlg6E",
        "colab_type": "code",
        "colab": {
          "base_uri": "https://localhost:8080/",
          "height": 34
        },
        "outputId": "c41ba5ce-4bca-4519-a070-e0606ebd1403"
      },
      "source": [
        "id(x)"
      ],
      "execution_count": 18,
      "outputs": [
        {
          "output_type": "execute_result",
          "data": {
            "text/plain": [
              "10914784"
            ]
          },
          "metadata": {
            "tags": []
          },
          "execution_count": 18
        }
      ]
    },
    {
      "cell_type": "code",
      "metadata": {
        "id": "lHHJaO7hllJc",
        "colab_type": "code",
        "colab": {
          "base_uri": "https://localhost:8080/",
          "height": 34
        },
        "outputId": "b331cb1b-b0e9-499d-a281-fbebcf693a12"
      },
      "source": [
        "id(y)"
      ],
      "execution_count": 19,
      "outputs": [
        {
          "output_type": "execute_result",
          "data": {
            "text/plain": [
              "10914784"
            ]
          },
          "metadata": {
            "tags": []
          },
          "execution_count": 19
        }
      ]
    },
    {
      "cell_type": "markdown",
      "metadata": {
        "id": "eulxvnaWlsR-",
        "colab_type": "text"
      },
      "source": [
        "**ARITHEMATIC OPERATOR** "
      ]
    },
    {
      "cell_type": "code",
      "metadata": {
        "id": "xpe-mFEPloH9",
        "colab_type": "code",
        "colab": {
          "base_uri": "https://localhost:8080/",
          "height": 34
        },
        "outputId": "c9f442ae-e608-4079-87a1-e0dc6b32da72"
      },
      "source": [
        "5**2"
      ],
      "execution_count": 20,
      "outputs": [
        {
          "output_type": "execute_result",
          "data": {
            "text/plain": [
              "25"
            ]
          },
          "metadata": {
            "tags": []
          },
          "execution_count": 20
        }
      ]
    },
    {
      "cell_type": "code",
      "metadata": {
        "id": "keOdNDVml0h9",
        "colab_type": "code",
        "colab": {
          "base_uri": "https://localhost:8080/",
          "height": 34
        },
        "outputId": "f8c3a788-a89b-4a81-f889-817c458cb25c"
      },
      "source": [
        "5%2"
      ],
      "execution_count": 21,
      "outputs": [
        {
          "output_type": "execute_result",
          "data": {
            "text/plain": [
              "1"
            ]
          },
          "metadata": {
            "tags": []
          },
          "execution_count": 21
        }
      ]
    },
    {
      "cell_type": "code",
      "metadata": {
        "id": "GSnldb8Dl4V3",
        "colab_type": "code",
        "colab": {
          "base_uri": "https://localhost:8080/",
          "height": 34
        },
        "outputId": "bb3080dc-6bcc-48cb-87b5-de0903c99473"
      },
      "source": [
        "50//3"
      ],
      "execution_count": 22,
      "outputs": [
        {
          "output_type": "execute_result",
          "data": {
            "text/plain": [
              "16"
            ]
          },
          "metadata": {
            "tags": []
          },
          "execution_count": 22
        }
      ]
    },
    {
      "cell_type": "code",
      "metadata": {
        "id": "dsc4PuNLl-VK",
        "colab_type": "code",
        "colab": {
          "base_uri": "https://localhost:8080/",
          "height": 34
        },
        "outputId": "bfee9833-6838-4fa4-eb31-5a06f2a810b6"
      },
      "source": [
        "6*3"
      ],
      "execution_count": 23,
      "outputs": [
        {
          "output_type": "execute_result",
          "data": {
            "text/plain": [
              "18"
            ]
          },
          "metadata": {
            "tags": []
          },
          "execution_count": 23
        }
      ]
    },
    {
      "cell_type": "code",
      "metadata": {
        "id": "REtrNOs1mGt6",
        "colab_type": "code",
        "colab": {
          "base_uri": "https://localhost:8080/",
          "height": 34
        },
        "outputId": "1ccd2494-e505-46e8-d7b6-2235adb67af4"
      },
      "source": [
        "5/4"
      ],
      "execution_count": 24,
      "outputs": [
        {
          "output_type": "execute_result",
          "data": {
            "text/plain": [
              "1.25"
            ]
          },
          "metadata": {
            "tags": []
          },
          "execution_count": 24
        }
      ]
    },
    {
      "cell_type": "code",
      "metadata": {
        "id": "Mtgxsjk0mJbs",
        "colab_type": "code",
        "colab": {
          "base_uri": "https://localhost:8080/",
          "height": 34
        },
        "outputId": "c392348b-9302-4f4c-9528-aa505797d4e1"
      },
      "source": [
        "10+7"
      ],
      "execution_count": 25,
      "outputs": [
        {
          "output_type": "execute_result",
          "data": {
            "text/plain": [
              "17"
            ]
          },
          "metadata": {
            "tags": []
          },
          "execution_count": 25
        }
      ]
    },
    {
      "cell_type": "code",
      "metadata": {
        "id": "rBqnfGozmMjQ",
        "colab_type": "code",
        "colab": {
          "base_uri": "https://localhost:8080/",
          "height": 34
        },
        "outputId": "27d38893-2c77-470e-f229-42da2249336e"
      },
      "source": [
        "10-20"
      ],
      "execution_count": 26,
      "outputs": [
        {
          "output_type": "execute_result",
          "data": {
            "text/plain": [
              "-10"
            ]
          },
          "metadata": {
            "tags": []
          },
          "execution_count": 26
        }
      ]
    },
    {
      "cell_type": "markdown",
      "metadata": {
        "id": "0FYX8WmwmQEQ",
        "colab_type": "text"
      },
      "source": [
        "**COMPARISION OPERATOR**"
      ]
    },
    {
      "cell_type": "code",
      "metadata": {
        "id": "GYjJJB8hmPEd",
        "colab_type": "code",
        "colab": {}
      },
      "source": [
        "a=10\n",
        "b=10\n",
        "a=b"
      ],
      "execution_count": 27,
      "outputs": []
    },
    {
      "cell_type": "code",
      "metadata": {
        "id": "oMdl2mgomb7x",
        "colab_type": "code",
        "colab": {
          "base_uri": "https://localhost:8080/",
          "height": 34
        },
        "outputId": "b9d95ec7-6311-4523-cb2c-7f69ce2db42e"
      },
      "source": [
        "a==b"
      ],
      "execution_count": 28,
      "outputs": [
        {
          "output_type": "execute_result",
          "data": {
            "text/plain": [
              "True"
            ]
          },
          "metadata": {
            "tags": []
          },
          "execution_count": 28
        }
      ]
    },
    {
      "cell_type": "code",
      "metadata": {
        "id": "lq7epD9rmeVq",
        "colab_type": "code",
        "colab": {
          "base_uri": "https://localhost:8080/",
          "height": 34
        },
        "outputId": "a3bea438-a189-40b1-9566-15926f3d2ee6"
      },
      "source": [
        "a=10\n",
        "b=20\n",
        "c=10\n",
        "a==c"
      ],
      "execution_count": 29,
      "outputs": [
        {
          "output_type": "execute_result",
          "data": {
            "text/plain": [
              "True"
            ]
          },
          "metadata": {
            "tags": []
          },
          "execution_count": 29
        }
      ]
    },
    {
      "cell_type": "code",
      "metadata": {
        "id": "sUr0KD9Xml3a",
        "colab_type": "code",
        "colab": {
          "base_uri": "https://localhost:8080/",
          "height": 34
        },
        "outputId": "a2fd2a25-4979-4b30-f8cf-78fc3cfc1d2c"
      },
      "source": [
        "c<a"
      ],
      "execution_count": 30,
      "outputs": [
        {
          "output_type": "execute_result",
          "data": {
            "text/plain": [
              "False"
            ]
          },
          "metadata": {
            "tags": []
          },
          "execution_count": 30
        }
      ]
    },
    {
      "cell_type": "code",
      "metadata": {
        "id": "JID08TvqmnZv",
        "colab_type": "code",
        "colab": {
          "base_uri": "https://localhost:8080/",
          "height": 34
        },
        "outputId": "c81f2480-551e-46cf-b4bf-33092c1a67cf"
      },
      "source": [
        "c<=a"
      ],
      "execution_count": 31,
      "outputs": [
        {
          "output_type": "execute_result",
          "data": {
            "text/plain": [
              "True"
            ]
          },
          "metadata": {
            "tags": []
          },
          "execution_count": 31
        }
      ]
    },
    {
      "cell_type": "markdown",
      "metadata": {
        "id": "DlPzG1iImrDh",
        "colab_type": "text"
      },
      "source": [
        "**BITWISE OPERATOR**"
      ]
    },
    {
      "cell_type": "code",
      "metadata": {
        "id": "bUB_TQVrmpvU",
        "colab_type": "code",
        "colab": {
          "base_uri": "https://localhost:8080/",
          "height": 34
        },
        "outputId": "c3bd177b-6fb2-4262-825f-cbd944460238"
      },
      "source": [
        "a=240\n",
        "b=1\n",
        "a/b"
      ],
      "execution_count": 32,
      "outputs": [
        {
          "output_type": "execute_result",
          "data": {
            "text/plain": [
              "240.0"
            ]
          },
          "metadata": {
            "tags": []
          },
          "execution_count": 32
        }
      ]
    },
    {
      "cell_type": "markdown",
      "metadata": {
        "id": "80i48kQenOsl",
        "colab_type": "text"
      },
      "source": [
        "**LOGICAL OPERATOR**"
      ]
    },
    {
      "cell_type": "code",
      "metadata": {
        "id": "0WSr_Yuhm7wY",
        "colab_type": "code",
        "colab": {
          "base_uri": "https://localhost:8080/",
          "height": 34
        },
        "outputId": "91dbcb00-17c8-45b7-f30f-6c6999b98be4"
      },
      "source": [
        "a=1\n",
        "b=20\n",
        "a>20"
      ],
      "execution_count": 33,
      "outputs": [
        {
          "output_type": "execute_result",
          "data": {
            "text/plain": [
              "False"
            ]
          },
          "metadata": {
            "tags": []
          },
          "execution_count": 33
        }
      ]
    },
    {
      "cell_type": "code",
      "metadata": {
        "id": "OK58PG5ZnXIX",
        "colab_type": "code",
        "colab": {
          "base_uri": "https://localhost:8080/",
          "height": 34
        },
        "outputId": "c8a59183-ced6-4f97-cc10-3883aca5e609"
      },
      "source": [
        "a>20 or 10>9"
      ],
      "execution_count": 34,
      "outputs": [
        {
          "output_type": "execute_result",
          "data": {
            "text/plain": [
              "True"
            ]
          },
          "metadata": {
            "tags": []
          },
          "execution_count": 34
        }
      ]
    },
    {
      "cell_type": "code",
      "metadata": {
        "id": "6tLgdsHSnbYA",
        "colab_type": "code",
        "colab": {
          "base_uri": "https://localhost:8080/",
          "height": 34
        },
        "outputId": "86986600-176e-4d73-8155-d64fa19bd068"
      },
      "source": [
        "10<9 and 20>m"
      ],
      "execution_count": 35,
      "outputs": [
        {
          "output_type": "execute_result",
          "data": {
            "text/plain": [
              "False"
            ]
          },
          "metadata": {
            "tags": []
          },
          "execution_count": 35
        }
      ]
    },
    {
      "cell_type": "markdown",
      "metadata": {
        "id": "kxO6BR_9nm3G",
        "colab_type": "text"
      },
      "source": [
        "**NOT OPERATOR**"
      ]
    },
    {
      "cell_type": "code",
      "metadata": {
        "id": "waip2kDwnfvO",
        "colab_type": "code",
        "colab": {
          "base_uri": "https://localhost:8080/",
          "height": 34
        },
        "outputId": "0ffb3644-9b90-45c7-ea81-d2bd4bd4a405"
      },
      "source": [
        "10<9"
      ],
      "execution_count": 36,
      "outputs": [
        {
          "output_type": "execute_result",
          "data": {
            "text/plain": [
              "False"
            ]
          },
          "metadata": {
            "tags": []
          },
          "execution_count": 36
        }
      ]
    },
    {
      "cell_type": "code",
      "metadata": {
        "id": "_SM_QFCHnuGy",
        "colab_type": "code",
        "colab": {
          "base_uri": "https://localhost:8080/",
          "height": 34
        },
        "outputId": "86a5f4b8-2466-49f7-e965-ae490073f237"
      },
      "source": [
        "not 10<9"
      ],
      "execution_count": 37,
      "outputs": [
        {
          "output_type": "execute_result",
          "data": {
            "text/plain": [
              "True"
            ]
          },
          "metadata": {
            "tags": []
          },
          "execution_count": 37
        }
      ]
    },
    {
      "cell_type": "markdown",
      "metadata": {
        "id": "IA_66qoDn2ta",
        "colab_type": "text"
      },
      "source": [
        "**MEMBERSHIP OPERATOR**"
      ]
    },
    {
      "cell_type": "code",
      "metadata": {
        "id": "yVHYc0W2nzJS",
        "colab_type": "code",
        "colab": {
          "base_uri": "https://localhost:8080/",
          "height": 34
        },
        "outputId": "a4d6e412-4d9b-4a88-c708-9f5510fca733"
      },
      "source": [
        "str1=\"pythonprogramming\"\n",
        "\"a\" in str1"
      ],
      "execution_count": 39,
      "outputs": [
        {
          "output_type": "execute_result",
          "data": {
            "text/plain": [
              "True"
            ]
          },
          "metadata": {
            "tags": []
          },
          "execution_count": 39
        }
      ]
    },
    {
      "cell_type": "code",
      "metadata": {
        "id": "LpSk-44HoNQ8",
        "colab_type": "code",
        "colab": {
          "base_uri": "https://localhost:8080/",
          "height": 34
        },
        "outputId": "64be6ad3-1e1d-4a74-8a46-54a594bdd25c"
      },
      "source": [
        "\"x\" in str1"
      ],
      "execution_count": 40,
      "outputs": [
        {
          "output_type": "execute_result",
          "data": {
            "text/plain": [
              "False"
            ]
          },
          "metadata": {
            "tags": []
          },
          "execution_count": 40
        }
      ]
    },
    {
      "cell_type": "code",
      "metadata": {
        "id": "z1dE-p76oSF_",
        "colab_type": "code",
        "colab": {
          "base_uri": "https://localhost:8080/",
          "height": 34
        },
        "outputId": "59ddcbc4-0ab9-463d-f889-c2c72abbcbba"
      },
      "source": [
        "\"x\" not in str1"
      ],
      "execution_count": 41,
      "outputs": [
        {
          "output_type": "execute_result",
          "data": {
            "text/plain": [
              "True"
            ]
          },
          "metadata": {
            "tags": []
          },
          "execution_count": 41
        }
      ]
    },
    {
      "cell_type": "markdown",
      "metadata": {
        "id": "pE0m6nT8ocCN",
        "colab_type": "text"
      },
      "source": [
        "**IDENTITY OPERATOR**"
      ]
    },
    {
      "cell_type": "code",
      "metadata": {
        "id": "k3vY9mj9oVBl",
        "colab_type": "code",
        "colab": {}
      },
      "source": [
        "a=10\n",
        "b=10\n",
        "a=b"
      ],
      "execution_count": 43,
      "outputs": []
    },
    {
      "cell_type": "code",
      "metadata": {
        "id": "2ZYy_yLwokMb",
        "colab_type": "code",
        "colab": {
          "base_uri": "https://localhost:8080/",
          "height": 163
        },
        "outputId": "070714bd-b1e8-429e-9e67-427f38345200"
      },
      "source": [
        "aisb"
      ],
      "execution_count": 44,
      "outputs": [
        {
          "output_type": "error",
          "ename": "NameError",
          "evalue": "ignored",
          "traceback": [
            "\u001b[0;31m---------------------------------------------------------------------------\u001b[0m",
            "\u001b[0;31mNameError\u001b[0m                                 Traceback (most recent call last)",
            "\u001b[0;32m<ipython-input-44-f488c70fe827>\u001b[0m in \u001b[0;36m<module>\u001b[0;34m()\u001b[0m\n\u001b[0;32m----> 1\u001b[0;31m \u001b[0maisb\u001b[0m\u001b[0;34m\u001b[0m\u001b[0;34m\u001b[0m\u001b[0m\n\u001b[0m",
            "\u001b[0;31mNameError\u001b[0m: name 'aisb' is not defined"
          ]
        }
      ]
    },
    {
      "cell_type": "code",
      "metadata": {
        "id": "xTP30mgNo240",
        "colab_type": "code",
        "colab": {
          "base_uri": "https://localhost:8080/",
          "height": 34
        },
        "outputId": "de09df84-de09-4081-8f3a-b49f557df9db"
      },
      "source": [
        "a is b"
      ],
      "execution_count": 45,
      "outputs": [
        {
          "output_type": "execute_result",
          "data": {
            "text/plain": [
              "True"
            ]
          },
          "metadata": {
            "tags": []
          },
          "execution_count": 45
        }
      ]
    },
    {
      "cell_type": "code",
      "metadata": {
        "id": "lyA-zjato4oc",
        "colab_type": "code",
        "colab": {
          "base_uri": "https://localhost:8080/",
          "height": 34
        },
        "outputId": "8ab5989b-389a-4e52-9506-dc9e8ef4ac6d"
      },
      "source": [
        "a=257\n",
        "b=257\n",
        "a is b"
      ],
      "execution_count": 46,
      "outputs": [
        {
          "output_type": "execute_result",
          "data": {
            "text/plain": [
              "False"
            ]
          },
          "metadata": {
            "tags": []
          },
          "execution_count": 46
        }
      ]
    },
    {
      "cell_type": "code",
      "metadata": {
        "id": "sSae26uUpEJv",
        "colab_type": "code",
        "colab": {
          "base_uri": "https://localhost:8080/",
          "height": 34
        },
        "outputId": "1db4b7e1-42f4-4ef0-aa1f-40adf5fb9f72"
      },
      "source": [
        "a==b"
      ],
      "execution_count": 47,
      "outputs": [
        {
          "output_type": "execute_result",
          "data": {
            "text/plain": [
              "True"
            ]
          },
          "metadata": {
            "tags": []
          },
          "execution_count": 47
        }
      ]
    },
    {
      "cell_type": "code",
      "metadata": {
        "id": "RUkgtVW0pGFi",
        "colab_type": "code",
        "colab": {}
      },
      "source": [
        ""
      ],
      "execution_count": null,
      "outputs": []
    }
  ]
}