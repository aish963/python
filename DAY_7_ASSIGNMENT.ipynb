{
  "nbformat": 4,
  "nbformat_minor": 0,
  "metadata": {
    "colab": {
      "name": "DAY 7 ASSIGNMENT.ipynb",
      "provenance": [],
      "collapsed_sections": [],
      "authorship_tag": "ABX9TyOBnIygNJPBN6ID0nHUIELv",
      "include_colab_link": true
    },
    "kernelspec": {
      "name": "python3",
      "display_name": "Python 3"
    }
  },
  "cells": [
    {
      "cell_type": "markdown",
      "metadata": {
        "id": "view-in-github",
        "colab_type": "text"
      },
      "source": [
        "<a href=\"https://colab.research.google.com/github/aish963/python/blob/master/DAY_7_ASSIGNMENT.ipynb\" target=\"_parent\"><img src=\"https://colab.research.google.com/assets/colab-badge.svg\" alt=\"Open In Colab\"/></a>"
      ]
    },
    {
      "cell_type": "markdown",
      "metadata": {
        "id": "f18-UsxKafjn",
        "colab_type": "text"
      },
      "source": [
        "# **ASSIGNMENT 1**"
      ]
    },
    {
      "cell_type": "code",
      "metadata": {
        "id": "0zEGzBGLamLx",
        "colab_type": "code",
        "colab": {
          "base_uri": "https://localhost:8080/",
          "height": 34
        },
        "outputId": "e071a27c-592b-4770-e28d-0dd07e80cb0e"
      },
      "source": [
        "port1 = {21: \"FTP\", 22:\"SSH\", 23: \"telnet\", 80: \"http\"}\n",
        "x1=list(port1.keys())\n",
        "x2=list(port1.values())\n",
        "port2={  x2[i]:x1[i]  for i in range(len(x1)) }\n",
        "print(port2)"
      ],
      "execution_count": 3,
      "outputs": [
        {
          "output_type": "stream",
          "text": [
            "{'FTP': 21, 'SSH': 22, 'telnet': 23, 'http': 80}\n"
          ],
          "name": "stdout"
        }
      ]
    },
    {
      "cell_type": "code",
      "metadata": {
        "id": "G3GnaMwaa3VY",
        "colab_type": "code",
        "colab": {}
      },
      "source": [
        ""
      ],
      "execution_count": null,
      "outputs": []
    },
    {
      "cell_type": "markdown",
      "metadata": {
        "id": "2Mt0LLIGa9l7",
        "colab_type": "text"
      },
      "source": [
        "# **ASSIGNMENT 2**"
      ]
    },
    {
      "cell_type": "code",
      "metadata": {
        "id": "5N1oXwdHbIAP",
        "colab_type": "code",
        "colab": {
          "base_uri": "https://localhost:8080/",
          "height": 34
        },
        "outputId": "e37988c8-02f8-46d9-8b83-127a832b2bbf"
      },
      "source": [
        "list1=[(1,2),(3,4),(5,6),(4,5)]\n",
        "res=[ sum(i)  for i in list1 ]\n",
        "print(res)"
      ],
      "execution_count": 4,
      "outputs": [
        {
          "output_type": "stream",
          "text": [
            "[3, 7, 11, 9]\n"
          ],
          "name": "stdout"
        }
      ]
    },
    {
      "cell_type": "markdown",
      "metadata": {
        "id": "FrSYn_XVbRkU",
        "colab_type": "text"
      },
      "source": [
        "# **ASSIGNMENT 3**"
      ]
    },
    {
      "cell_type": "code",
      "metadata": {
        "id": "e-jnQaLXbPDU",
        "colab_type": "code",
        "colab": {
          "base_uri": "https://localhost:8080/",
          "height": 34
        },
        "outputId": "ed91b776-0bf4-4c46-bf82-87a30373fe75"
      },
      "source": [
        "lis=[(1,2,3),[1,2],['a','hit','less']]\n",
        "res=[]\n",
        "for i in lis: \n",
        "    if type(i)==type(lis): \n",
        "        res=res+i\n",
        "    elif type(i)==tuple:\n",
        "        res.extend(i)\n",
        "    else: \n",
        "        res.append(i)\n",
        "\n",
        "print(res)"
      ],
      "execution_count": 5,
      "outputs": [
        {
          "output_type": "stream",
          "text": [
            "[1, 2, 3, 1, 2, 'a', 'hit', 'less']\n"
          ],
          "name": "stdout"
        }
      ]
    },
    {
      "cell_type": "markdown",
      "metadata": {
        "id": "8xgDGnkIb5id",
        "colab_type": "text"
      },
      "source": [
        "# **FUNCTIONS**"
      ]
    },
    {
      "cell_type": "code",
      "metadata": {
        "id": "KG-aVVr7b6ke",
        "colab_type": "code",
        "colab": {
          "base_uri": "https://localhost:8080/",
          "height": 68
        },
        "outputId": "0f80c229-9945-489e-f23c-d9975c0f31fd"
      },
      "source": [
        "def fun1(a,b):\n",
        "    c=a+b\n",
        "    return c\n",
        "    res=fun1(10,20)+20\n",
        "    print(res)\n",
        "\n",
        "def fun1(name,age=32, marks=60):\n",
        "    print(name,age)\n",
        "    print(\" name age marks\")\n",
        "    fun1(\"Manish\",30,80)\n",
        "    fun1(\"Bhaskar\")\n",
        "    fun1(\"sahil\", marks=90)\n",
        "\n",
        "def fun1(a,*args):\n",
        "    print(a,args)\n",
        "fun1(12)\n",
        "fun1(10,20)\n",
        "fun1(4,5,1,6,9,4)"
      ],
      "execution_count": 6,
      "outputs": [
        {
          "output_type": "stream",
          "text": [
            "12 ()\n",
            "10 (20,)\n",
            "4 (5, 1, 6, 9, 4)\n"
          ],
          "name": "stdout"
        }
      ]
    },
    {
      "cell_type": "markdown",
      "metadata": {
        "id": "_qxdLc7pcMiN",
        "colab_type": "text"
      },
      "source": [
        "# **PASS BY REFERENCE**"
      ]
    },
    {
      "cell_type": "code",
      "metadata": {
        "id": "M5DY-NARbb-F",
        "colab_type": "code",
        "colab": {
          "base_uri": "https://localhost:8080/",
          "height": 68
        },
        "outputId": "6d00d5a6-43a8-4ca5-80c9-fa0a3cb77c65"
      },
      "source": [
        "def fun1(list1):\n",
        "    print(\"inside before appending\",list1,id(list1))\n",
        "    list1.append(30)\n",
        "    print(\"After appending\", list1, id(list1))\n",
        "list2=[4,5,6]\n",
        "fun1(list2)\n",
        "print(\"After calling\", list2, id(list2))"
      ],
      "execution_count": 7,
      "outputs": [
        {
          "output_type": "stream",
          "text": [
            "inside before appending [4, 5, 6] 139620577178184\n",
            "After appending [4, 5, 6, 30] 139620577178184\n",
            "After calling [4, 5, 6, 30] 139620577178184\n"
          ],
          "name": "stdout"
        }
      ]
    },
    {
      "cell_type": "code",
      "metadata": {
        "id": "VjrB1mUqcQp_",
        "colab_type": "code",
        "colab": {
          "base_uri": "https://localhost:8080/",
          "height": 51
        },
        "outputId": "f24c9e69-0073-42e1-bff8-0319b1bdabe3"
      },
      "source": [
        "def fun1():\n",
        "    global k\n",
        "    k = k+1\n",
        "    print(k)\n",
        "k=10\n",
        "fun1()\n",
        "print(\"After calling\",k)"
      ],
      "execution_count": 10,
      "outputs": [
        {
          "output_type": "stream",
          "text": [
            "11\n",
            "After calling 11\n"
          ],
          "name": "stdout"
        }
      ]
    },
    {
      "cell_type": "markdown",
      "metadata": {
        "id": "MKh1FhdXcuDi",
        "colab_type": "text"
      },
      "source": [
        "# **MODULE**"
      ]
    },
    {
      "cell_type": "code",
      "metadata": {
        "id": "b336g-OwcWWZ",
        "colab_type": "code",
        "colab": {
          "base_uri": "https://localhost:8080/",
          "height": 88
        },
        "outputId": "4e36e71f-e9c3-43e0-8525-d10fcb4af5e3"
      },
      "source": [
        "def sum1(a,b):\n",
        "    c=a+b\n",
        "    return c\n",
        "def sub1(a,b):\n",
        "    c=a-b\n",
        "    return c\n",
        "print (sum1(10,30))\n",
        "print (sub1(60,30))\n",
        "print (dir())"
      ],
      "execution_count": 11,
      "outputs": [
        {
          "output_type": "stream",
          "text": [
            "40\n",
            "30\n",
            "['In', 'Out', '_', '__', '___', '__builtin__', '__builtins__', '__doc__', '__loader__', '__name__', '__package__', '__spec__', '_dh', '_i', '_i1', '_i10', '_i11', '_i2', '_i3', '_i4', '_i5', '_i6', '_i7', '_i8', '_i9', '_ih', '_ii', '_iii', '_oh', '_sh', 'exit', 'fun1', 'get_ipython', 'i', 'k', 'lis', 'list1', 'list2', 'port1', 'port2', 'quit', 'res', 'sub1', 'sum1', 'x1', 'x2']\n"
          ],
          "name": "stdout"
        }
      ]
    },
    {
      "cell_type": "code",
      "metadata": {
        "id": "kppeOkegc8gG",
        "colab_type": "code",
        "colab": {
          "base_uri": "https://localhost:8080/",
          "height": 122
        },
        "outputId": "9fb223c8-4bf9-4c38-ac76-4fd36c32dbf4"
      },
      "source": [
        "def multi(a,b):\n",
        "    c=a*b\n",
        "    return c\n",
        "def divide (a,b):\n",
        "    c=a/b\n",
        "    print(sum1(90,2))\n",
        "    print(multi(9,8))\n",
        "\n",
        "print(sum1(90,2))\n",
        "print(sub1(8,4))\n",
        "print(sum1(10,30))\n",
        "print(dir())\n",
        "print(multi(9,8))"
      ],
      "execution_count": 12,
      "outputs": [
        {
          "output_type": "stream",
          "text": [
            "92\n",
            "4\n",
            "40\n",
            "['In', 'Out', '_', '__', '___', '__builtin__', '__builtins__', '__doc__', '__loader__', '__name__', '__package__', '__spec__', '_dh', '_i', '_i1', '_i10', '_i11', '_i12', '_i2', '_i3', '_i4', '_i5', '_i6', '_i7', '_i8', '_i9', '_ih', '_ii', '_iii', '_oh', '_sh', 'divide', 'exit', 'fun1', 'get_ipython', 'i', 'k', 'lis', 'list1', 'list2', 'multi', 'port1', 'port2', 'quit', 'res', 'sub1', 'sum1', 'x1', 'x2']\n",
            "72\n"
          ],
          "name": "stdout"
        }
      ]
    },
    {
      "cell_type": "code",
      "metadata": {
        "id": "SXQi_UjqdIp2",
        "colab_type": "code",
        "colab": {}
      },
      "source": [
        ""
      ],
      "execution_count": null,
      "outputs": []
    }
  ]
}