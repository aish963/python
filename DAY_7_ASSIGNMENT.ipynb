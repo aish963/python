{
  "nbformat": 4,
  "nbformat_minor": 0,
  "metadata": {
    "colab": {
      "name": "DAY 7 ASSIGNMENT.ipynb",
      "provenance": [],
      "authorship_tag": "ABX9TyMonFklArKCk56iin8G2GaY",
      "include_colab_link": true
    },
    "kernelspec": {
      "name": "python3",
      "display_name": "Python 3"
    }
  },
  "cells": [
    {
      "cell_type": "markdown",
      "metadata": {
        "id": "view-in-github",
        "colab_type": "text"
      },
      "source": [
        "<a href=\"https://colab.research.google.com/github/aish963/python/blob/master/DAY_7_ASSIGNMENT.ipynb\" target=\"_parent\"><img src=\"https://colab.research.google.com/assets/colab-badge.svg\" alt=\"Open In Colab\"/></a>"
      ]
    },
    {
      "cell_type": "markdown",
      "metadata": {
        "id": "f18-UsxKafjn",
        "colab_type": "text"
      },
      "source": [
        "# **ASSIGNMENT 1**"
      ]
    },
    {
      "cell_type": "code",
      "metadata": {
        "id": "0zEGzBGLamLx",
        "colab_type": "code",
        "colab": {
          "base_uri": "https://localhost:8080/",
          "height": 34
        },
        "outputId": "e071a27c-592b-4770-e28d-0dd07e80cb0e"
      },
      "source": [
        "port1 = {21: \"FTP\", 22:\"SSH\", 23: \"telnet\", 80: \"http\"}\n",
        "x1=list(port1.keys())\n",
        "x2=list(port1.values())\n",
        "port2={  x2[i]:x1[i]  for i in range(len(x1)) }\n",
        "print(port2)"
      ],
      "execution_count": 3,
      "outputs": [
        {
          "output_type": "stream",
          "text": [
            "{'FTP': 21, 'SSH': 22, 'telnet': 23, 'http': 80}\n"
          ],
          "name": "stdout"
        }
      ]
    },
    {
      "cell_type": "code",
      "metadata": {
        "id": "G3GnaMwaa3VY",
        "colab_type": "code",
        "colab": {}
      },
      "source": [
        ""
      ],
      "execution_count": null,
      "outputs": []
    },
    {
      "cell_type": "markdown",
      "metadata": {
        "id": "2Mt0LLIGa9l7",
        "colab_type": "text"
      },
      "source": [
        "# **ASSIGNMENT 2**"
      ]
    },
    {
      "cell_type": "code",
      "metadata": {
        "id": "5N1oXwdHbIAP",
        "colab_type": "code",
        "colab": {
          "base_uri": "https://localhost:8080/",
          "height": 34
        },
        "outputId": "e37988c8-02f8-46d9-8b83-127a832b2bbf"
      },
      "source": [
        "list1=[(1,2),(3,4),(5,6),(4,5)]\n",
        "res=[ sum(i)  for i in list1 ]\n",
        "print(res)"
      ],
      "execution_count": 4,
      "outputs": [
        {
          "output_type": "stream",
          "text": [
            "[3, 7, 11, 9]\n"
          ],
          "name": "stdout"
        }
      ]
    },
    {
      "cell_type": "markdown",
      "metadata": {
        "id": "FrSYn_XVbRkU",
        "colab_type": "text"
      },
      "source": [
        "# **ASSIGNMENT 3**"
      ]
    },
    {
      "cell_type": "code",
      "metadata": {
        "id": "e-jnQaLXbPDU",
        "colab_type": "code",
        "colab": {
          "base_uri": "https://localhost:8080/",
          "height": 34
        },
        "outputId": "ed91b776-0bf4-4c46-bf82-87a30373fe75"
      },
      "source": [
        "lis=[(1,2,3),[1,2],['a','hit','less']]\n",
        "res=[]\n",
        "for i in lis: \n",
        "    if type(i)==type(lis): \n",
        "        res=res+i\n",
        "    elif type(i)==tuple:\n",
        "        res.extend(i)\n",
        "    else: \n",
        "        res.append(i)\n",
        "\n",
        "print(res)"
      ],
      "execution_count": 5,
      "outputs": [
        {
          "output_type": "stream",
          "text": [
            "[1, 2, 3, 1, 2, 'a', 'hit', 'less']\n"
          ],
          "name": "stdout"
        }
      ]
    },
    {
      "cell_type": "code",
      "metadata": {
        "id": "M5DY-NARbb-F",
        "colab_type": "code",
        "colab": {}
      },
      "source": [
        ""
      ],
      "execution_count": null,
      "outputs": []
    }
  ]
}